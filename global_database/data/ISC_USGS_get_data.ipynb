{
 "cells": [
  {
   "cell_type": "markdown",
   "metadata": {},
   "source": [
    "### ISC catalog (International Seismological Center)"
   ]
  },
  {
   "cell_type": "code",
   "execution_count": 1,
   "metadata": {},
   "outputs": [],
   "source": [
    "import pandas as pd\n",
    "import numpy as np\n",
    "import requests"
   ]
  },
  {
   "cell_type": "markdown",
   "metadata": {},
   "source": [
    "I use **ISC FDSNWS event Web Service**. \n",
    "You can check http://www.isc.ac.uk/fdsnws/event/1/ for more information."
   ]
  },
  {
   "cell_type": "markdown",
   "metadata": {},
   "source": [
    "| min latitude | max latitude | min longitude | max longitude | start time (yyyy-mm-dd) | end time (yyyy-mm-dd) | format |\n",
    "| --- | --- | --- | --- | --- | --- | --- |\n",
    "| 70 | 80 | 100 | 150 | any | 2020-01-01 | xml |\n",
    "\n"
   ]
  },
  {
   "cell_type": "code",
   "execution_count": 2,
   "metadata": {},
   "outputs": [],
   "source": [
    "response = requests.get('http://isc-mirror.iris.washington.edu/fdsnws/event/1/query?minlatitude=70&maxlatitude=80&minlongitude=100&maxlongitude=150&endtime=2020-01-01T00:00:00&catalog=ISC&format=xml&nodata=404')"
   ]
  },
  {
   "cell_type": "markdown",
   "metadata": {},
   "source": [
    "**Let's make our data look properly**"
   ]
  },
  {
   "cell_type": "code",
   "execution_count": 3,
   "metadata": {},
   "outputs": [],
   "source": [
    "from xml.etree import ElementTree\n",
    "from contextlib import suppress\n",
    " \n",
    " \n",
    "# get_text_helper helps in getting nested text values from tree\n",
    "def get_text_helper(element, paths, namespaces):\n",
    "    try:\n",
    "        for path in paths:\n",
    "            element = element.find(path, namespaces=namespaces)\n",
    "        return element.text\n",
    "    except AttributeError:\n",
    "        return None\n",
    " \n",
    " \n",
    "def parse_xml(text):\n",
    "    ns = dict(qml=\"http://quakeml.org/xmlns/quakeml/1.2\")\n",
    "    et = ElementTree.fromstring(text)\n",
    "    for params in et.getchildren():\n",
    "        info = params.find(\"qml:creationInfo\", namespaces=ns)\n",
    "        description = params.find(\"qml:description\", namespaces=ns)\n",
    "        comment = params.find(\"qml:comment\", namespaces=ns)\n",
    "        for event in params.findall(\"qml:event\", namespaces=ns):\n",
    "#           origin_id = event.find(\"qml:preferredOriginID\", namespaces=ns).text\n",
    "            kind = event.find(\"qml:type\", namespaces=ns).text\n",
    "            origin = event.find(\"qml:origin\", namespaces=ns)\n",
    "            time = get_text_helper(origin, (\"qml:time\", \"qml:value\"), ns)\n",
    "            latitude = float(get_text_helper(origin, (\"qml:latitude\", \"qml:value\"), ns))\n",
    "            longitude = float(get_text_helper(origin, (\"qml:longitude\", \"qml:value\"), ns))\n",
    "            depth = None\n",
    "            magnitude = None\n",
    "            magtype = get_text_helper(event, (\"qml:magnitude\", \"qml:type\"), ns)\n",
    "            # Ignore error when trying convert to float.\n",
    "            with suppress(TypeError):\n",
    "                depth = float(get_text_helper(origin, (\"qml:depth\", \"qml:value\"), ns))\n",
    "                magnitude = float(get_text_helper(event, (\"qml:magnitude\", \"qml:mag\", \"qml:value\"), ns))\n",
    "            yield dict(\n",
    "                kind=kind,\n",
    "                time=time,\n",
    "                latitude=latitude,\n",
    "                longitude=longitude,\n",
    "                depth=depth,\n",
    "                magnitude=magnitude,\n",
    "                magtype=magtype\n",
    "            )"
   ]
  },
  {
   "cell_type": "code",
   "execution_count": 4,
   "metadata": {},
   "outputs": [
    {
     "name": "stderr",
     "output_type": "stream",
     "text": [
      "C:\\Users\\Home\\Anaconda3\\envs\\seismic\\lib\\site-packages\\ipykernel_launcher.py:18: DeprecationWarning: This method will be removed in future versions.  Use 'list(elem)' or iteration over elem instead.\n"
     ]
    }
   ],
   "source": [
    "isc_data = pd.DataFrame(data=parse_xml(response.text))"
   ]
  },
  {
   "cell_type": "code",
   "execution_count": 5,
   "metadata": {},
   "outputs": [
    {
     "data": {
      "text/html": [
       "<div>\n",
       "<style scoped>\n",
       "    .dataframe tbody tr th:only-of-type {\n",
       "        vertical-align: middle;\n",
       "    }\n",
       "\n",
       "    .dataframe tbody tr th {\n",
       "        vertical-align: top;\n",
       "    }\n",
       "\n",
       "    .dataframe thead th {\n",
       "        text-align: right;\n",
       "    }\n",
       "</style>\n",
       "<table border=\"1\" class=\"dataframe\">\n",
       "  <thead>\n",
       "    <tr style=\"text-align: right;\">\n",
       "      <th></th>\n",
       "      <th>kind</th>\n",
       "      <th>time</th>\n",
       "      <th>latitude</th>\n",
       "      <th>longitude</th>\n",
       "      <th>depth</th>\n",
       "      <th>magnitude</th>\n",
       "      <th>magtype</th>\n",
       "    </tr>\n",
       "  </thead>\n",
       "  <tbody>\n",
       "    <tr>\n",
       "      <th>0</th>\n",
       "      <td>earthquake</td>\n",
       "      <td>1909-04-10T18:46:54Z</td>\n",
       "      <td>77.5000</td>\n",
       "      <td>128.0000</td>\n",
       "      <td>35000.0</td>\n",
       "      <td>6.75</td>\n",
       "      <td>MS</td>\n",
       "    </tr>\n",
       "    <tr>\n",
       "      <th>1</th>\n",
       "      <td>earthquake</td>\n",
       "      <td>1912-04-13T02:39:42Z</td>\n",
       "      <td>80.0000</td>\n",
       "      <td>100.0000</td>\n",
       "      <td>35000.0</td>\n",
       "      <td>5.60</td>\n",
       "      <td>MS</td>\n",
       "    </tr>\n",
       "    <tr>\n",
       "      <th>2</th>\n",
       "      <td>earthquake</td>\n",
       "      <td>1918-11-30T06:48:46.86Z</td>\n",
       "      <td>70.5397</td>\n",
       "      <td>130.5124</td>\n",
       "      <td>15000.0</td>\n",
       "      <td>6.40</td>\n",
       "      <td>MS</td>\n",
       "    </tr>\n",
       "  </tbody>\n",
       "</table>\n",
       "</div>"
      ],
      "text/plain": [
       "         kind                     time  latitude  longitude    depth  \\\n",
       "0  earthquake     1909-04-10T18:46:54Z   77.5000   128.0000  35000.0   \n",
       "1  earthquake     1912-04-13T02:39:42Z   80.0000   100.0000  35000.0   \n",
       "2  earthquake  1918-11-30T06:48:46.86Z   70.5397   130.5124  15000.0   \n",
       "\n",
       "   magnitude magtype  \n",
       "0       6.75      MS  \n",
       "1       5.60      MS  \n",
       "2       6.40      MS  "
      ]
     },
     "execution_count": 5,
     "metadata": {},
     "output_type": "execute_result"
    }
   ],
   "source": [
    "isc_data.head(3)"
   ]
  },
  {
   "cell_type": "code",
   "execution_count": 6,
   "metadata": {},
   "outputs": [],
   "source": [
    "datetime = np.array(isc_data.time)\n",
    "# get date\n",
    "date = [datetime[i].split('T')[0] for i in range(len(datetime))]\n",
    "# get time\n",
    "time = [datetime[i].split('T')[1].split('Z')[0].split('.')[0] for i in range(len(datetime))]"
   ]
  },
  {
   "cell_type": "code",
   "execution_count": 7,
   "metadata": {},
   "outputs": [],
   "source": [
    "isc_data = isc_data.rename(columns={'kind': 'date'})\n",
    "isc_data['date'] = date\n",
    "isc_data['time'] = time"
   ]
  },
  {
   "cell_type": "code",
   "execution_count": 8,
   "metadata": {},
   "outputs": [],
   "source": [
    "# convert depth from m to km\n",
    "isc_data['depth'] = [isc_data.depth[i] / 1000 for i in range(len(isc_data))]\n",
    "# exclude events with no magnitude\n",
    "isc_data = isc_data[isc_data['magnitude'].notnull()]"
   ]
  },
  {
   "cell_type": "markdown",
   "metadata": {},
   "source": [
    "**Here, we have a table with basic info.\n",
    "We load the data to isc_data.txt. So, we can use that info for further applications**"
   ]
  },
  {
   "cell_type": "code",
   "execution_count": 9,
   "metadata": {},
   "outputs": [
    {
     "data": {
      "text/html": [
       "<div>\n",
       "<style scoped>\n",
       "    .dataframe tbody tr th:only-of-type {\n",
       "        vertical-align: middle;\n",
       "    }\n",
       "\n",
       "    .dataframe tbody tr th {\n",
       "        vertical-align: top;\n",
       "    }\n",
       "\n",
       "    .dataframe thead th {\n",
       "        text-align: right;\n",
       "    }\n",
       "</style>\n",
       "<table border=\"1\" class=\"dataframe\">\n",
       "  <thead>\n",
       "    <tr style=\"text-align: right;\">\n",
       "      <th></th>\n",
       "      <th>date</th>\n",
       "      <th>time</th>\n",
       "      <th>latitude</th>\n",
       "      <th>longitude</th>\n",
       "      <th>depth</th>\n",
       "      <th>magnitude</th>\n",
       "      <th>magtype</th>\n",
       "    </tr>\n",
       "  </thead>\n",
       "  <tbody>\n",
       "    <tr>\n",
       "      <th>0</th>\n",
       "      <td>1909-04-10</td>\n",
       "      <td>18:46:54</td>\n",
       "      <td>77.5000</td>\n",
       "      <td>128.0000</td>\n",
       "      <td>35.0</td>\n",
       "      <td>6.75</td>\n",
       "      <td>MS</td>\n",
       "    </tr>\n",
       "    <tr>\n",
       "      <th>1</th>\n",
       "      <td>1912-04-13</td>\n",
       "      <td>02:39:42</td>\n",
       "      <td>80.0000</td>\n",
       "      <td>100.0000</td>\n",
       "      <td>35.0</td>\n",
       "      <td>5.60</td>\n",
       "      <td>MS</td>\n",
       "    </tr>\n",
       "    <tr>\n",
       "      <th>2</th>\n",
       "      <td>1918-11-30</td>\n",
       "      <td>06:48:46</td>\n",
       "      <td>70.5397</td>\n",
       "      <td>130.5124</td>\n",
       "      <td>15.0</td>\n",
       "      <td>6.40</td>\n",
       "      <td>MS</td>\n",
       "    </tr>\n",
       "  </tbody>\n",
       "</table>\n",
       "</div>"
      ],
      "text/plain": [
       "         date      time  latitude  longitude  depth  magnitude magtype\n",
       "0  1909-04-10  18:46:54   77.5000   128.0000   35.0       6.75      MS\n",
       "1  1912-04-13  02:39:42   80.0000   100.0000   35.0       5.60      MS\n",
       "2  1918-11-30  06:48:46   70.5397   130.5124   15.0       6.40      MS"
      ]
     },
     "execution_count": 9,
     "metadata": {},
     "output_type": "execute_result"
    }
   ],
   "source": [
    "isc_data.head(3)"
   ]
  },
  {
   "cell_type": "code",
   "execution_count": 10,
   "metadata": {},
   "outputs": [],
   "source": [
    "isc_data.to_csv('isc_data.txt', index=False)"
   ]
  },
  {
   "cell_type": "code",
   "execution_count": null,
   "metadata": {},
   "outputs": [],
   "source": []
  },
  {
   "cell_type": "markdown",
   "metadata": {},
   "source": [
    "**ISF is the IASPEI approved standard format for the exchange of parametric seismological data (hypocentres, magnitudes, phase arrivals, moment tensors, etc.).**"
   ]
  },
  {
   "cell_type": "markdown",
   "metadata": {},
   "source": [
    "| min latitude | max latitude | min longitude | max longitude | start time (yyyy-mm-dd) | end time (yyyy-mm-dd) | format |\n",
    "| --- | --- | --- | --- | --- | --- | --- |\n",
    "| 70 | 80 | 100 | 150 | any | 2020-01-01 | isf |"
   ]
  },
  {
   "cell_type": "code",
   "execution_count": 11,
   "metadata": {},
   "outputs": [],
   "source": [
    "response = requests.get('http://isc-mirror.iris.washington.edu/fdsnws/event/1/query?minlatitude=70&maxlatitude=80&minlongitude=100&maxlongitude=150&endtime=2020-01-01T00:00:00&catalog=ISC&format=isf&nodata=404')"
   ]
  },
  {
   "cell_type": "markdown",
   "metadata": {},
   "source": [
    "**So, we have the possibility to get more information. Let's keep it in mind for further applications.**"
   ]
  },
  {
   "cell_type": "code",
   "execution_count": null,
   "metadata": {},
   "outputs": [],
   "source": []
  },
  {
   "cell_type": "markdown",
   "metadata": {},
   "source": [
    "### United States Geological Survey (NEIC)\n",
    "You can check https://earthquake.usgs.gov/fdsnws/event/1/ for more information."
   ]
  },
  {
   "cell_type": "markdown",
   "metadata": {},
   "source": [
    "| min latitude | max latitude | min longitude | max longitude | start time (yyyy-mm-dd) | end time (yyyy-mm-dd) | \n",
    "| --- | --- | --- | --- | --- | --- | \n",
    "| 70 | 80 | 100 | 150 | 1970-01-01 | 2020-01-01 | "
   ]
  },
  {
   "cell_type": "code",
   "execution_count": 12,
   "metadata": {},
   "outputs": [],
   "source": [
    "response = requests.get('https://earthquake.usgs.gov/fdsnws/event/1/query?format=text&starttime=1970-01-01&endtime=2020-01-01&minlatitude=70&minlongitude=100&maxlatitude=80&maxlongitude=150&orderby=time')"
   ]
  },
  {
   "cell_type": "code",
   "execution_count": 13,
   "metadata": {},
   "outputs": [],
   "source": [
    "usgs_data = response.text.split('\\n')\n",
    "\n",
    "for line in range(len(usgs_data)):\n",
    "    usgs_data[line] = usgs_data[line].split('|')\n",
    "\n",
    "usgs_data = pd.DataFrame(usgs_data[1:-1], columns=usgs_data[0])"
   ]
  },
  {
   "cell_type": "code",
   "execution_count": 14,
   "metadata": {},
   "outputs": [],
   "source": [
    "usgs_data = usgs_data.rename(columns={'#EventID': 'date', 'Time': 'time', 'Latitude': 'latitude', 'Longitude': 'longitude',\n",
    "                                      'Depth/km': 'depth', 'Magnitude': 'magnitude', 'MagType':'magtype'})"
   ]
  },
  {
   "cell_type": "code",
   "execution_count": 15,
   "metadata": {},
   "outputs": [
    {
     "data": {
      "text/html": [
       "<div>\n",
       "<style scoped>\n",
       "    .dataframe tbody tr th:only-of-type {\n",
       "        vertical-align: middle;\n",
       "    }\n",
       "\n",
       "    .dataframe tbody tr th {\n",
       "        vertical-align: top;\n",
       "    }\n",
       "\n",
       "    .dataframe thead th {\n",
       "        text-align: right;\n",
       "    }\n",
       "</style>\n",
       "<table border=\"1\" class=\"dataframe\">\n",
       "  <thead>\n",
       "    <tr style=\"text-align: right;\">\n",
       "      <th></th>\n",
       "      <th>date</th>\n",
       "      <th>time</th>\n",
       "      <th>latitude</th>\n",
       "      <th>longitude</th>\n",
       "      <th>depth</th>\n",
       "      <th>Author</th>\n",
       "      <th>Catalog</th>\n",
       "      <th>Contributor</th>\n",
       "      <th>ContributorID</th>\n",
       "      <th>magtype</th>\n",
       "      <th>magnitude</th>\n",
       "      <th>MagAuthor</th>\n",
       "      <th>EventLocationName</th>\n",
       "    </tr>\n",
       "  </thead>\n",
       "  <tbody>\n",
       "    <tr>\n",
       "      <th>0</th>\n",
       "      <td>us600050jx</td>\n",
       "      <td>2019-08-04T13:22:56.174</td>\n",
       "      <td>71.4671</td>\n",
       "      <td>138.4826</td>\n",
       "      <td>10</td>\n",
       "      <td>us</td>\n",
       "      <td>us</td>\n",
       "      <td>us</td>\n",
       "      <td>us600050jx</td>\n",
       "      <td>mb</td>\n",
       "      <td>4.3</td>\n",
       "      <td>us</td>\n",
       "      <td>193km NNE of Ust'-Kuyga, Russia</td>\n",
       "    </tr>\n",
       "    <tr>\n",
       "      <th>1</th>\n",
       "      <td>us70003ntt</td>\n",
       "      <td>2019-05-21T03:45:11.918</td>\n",
       "      <td>75.493</td>\n",
       "      <td>110.1978</td>\n",
       "      <td>10</td>\n",
       "      <td>us</td>\n",
       "      <td>us</td>\n",
       "      <td>us</td>\n",
       "      <td>us70003ntt</td>\n",
       "      <td>mb</td>\n",
       "      <td>4.8</td>\n",
       "      <td>us</td>\n",
       "      <td>167km NNW of Nordvik, Russia</td>\n",
       "    </tr>\n",
       "  </tbody>\n",
       "</table>\n",
       "</div>"
      ],
      "text/plain": [
       "         date                     time latitude longitude depth Author  \\\n",
       "0  us600050jx  2019-08-04T13:22:56.174  71.4671  138.4826    10     us   \n",
       "1  us70003ntt  2019-05-21T03:45:11.918   75.493  110.1978    10     us   \n",
       "\n",
       "  Catalog Contributor ContributorID magtype magnitude MagAuthor  \\\n",
       "0      us          us    us600050jx      mb       4.3        us   \n",
       "1      us          us    us70003ntt      mb       4.8        us   \n",
       "\n",
       "                 EventLocationName  \n",
       "0  193km NNE of Ust'-Kuyga, Russia  \n",
       "1     167km NNW of Nordvik, Russia  "
      ]
     },
     "execution_count": 15,
     "metadata": {},
     "output_type": "execute_result"
    }
   ],
   "source": [
    "usgs_data.head(2)"
   ]
  },
  {
   "cell_type": "code",
   "execution_count": 16,
   "metadata": {},
   "outputs": [],
   "source": [
    "datetime = np.array(usgs_data.time)\n",
    "# get date\n",
    "date = [datetime[i].split('T')[0] for i in range(len(datetime))]\n",
    "# get time\n",
    "time = [datetime[i].split('T')[1].split('.')[0] for i in range(len(datetime))]\n",
    "\n",
    "usgs_data['date'] = date\n",
    "usgs_data['time'] = time"
   ]
  },
  {
   "cell_type": "code",
   "execution_count": 17,
   "metadata": {},
   "outputs": [],
   "source": [
    "usgs_data = usgs_data[['date', 'time', 'latitude', 'longitude', 'depth', 'magnitude', 'magtype']]"
   ]
  },
  {
   "cell_type": "code",
   "execution_count": 18,
   "metadata": {},
   "outputs": [
    {
     "data": {
      "text/html": [
       "<div>\n",
       "<style scoped>\n",
       "    .dataframe tbody tr th:only-of-type {\n",
       "        vertical-align: middle;\n",
       "    }\n",
       "\n",
       "    .dataframe tbody tr th {\n",
       "        vertical-align: top;\n",
       "    }\n",
       "\n",
       "    .dataframe thead th {\n",
       "        text-align: right;\n",
       "    }\n",
       "</style>\n",
       "<table border=\"1\" class=\"dataframe\">\n",
       "  <thead>\n",
       "    <tr style=\"text-align: right;\">\n",
       "      <th></th>\n",
       "      <th>date</th>\n",
       "      <th>time</th>\n",
       "      <th>latitude</th>\n",
       "      <th>longitude</th>\n",
       "      <th>depth</th>\n",
       "      <th>magnitude</th>\n",
       "      <th>magtype</th>\n",
       "    </tr>\n",
       "  </thead>\n",
       "  <tbody>\n",
       "    <tr>\n",
       "      <th>0</th>\n",
       "      <td>2019-08-04</td>\n",
       "      <td>13:22:56</td>\n",
       "      <td>71.4671</td>\n",
       "      <td>138.4826</td>\n",
       "      <td>10</td>\n",
       "      <td>4.3</td>\n",
       "      <td>mb</td>\n",
       "    </tr>\n",
       "    <tr>\n",
       "      <th>1</th>\n",
       "      <td>2019-05-21</td>\n",
       "      <td>03:45:11</td>\n",
       "      <td>75.493</td>\n",
       "      <td>110.1978</td>\n",
       "      <td>10</td>\n",
       "      <td>4.8</td>\n",
       "      <td>mb</td>\n",
       "    </tr>\n",
       "    <tr>\n",
       "      <th>2</th>\n",
       "      <td>2019-05-13</td>\n",
       "      <td>00:43:33</td>\n",
       "      <td>79.4127</td>\n",
       "      <td>123.9058</td>\n",
       "      <td>10</td>\n",
       "      <td>5.4</td>\n",
       "      <td>mww</td>\n",
       "    </tr>\n",
       "  </tbody>\n",
       "</table>\n",
       "</div>"
      ],
      "text/plain": [
       "         date      time latitude longitude depth magnitude magtype\n",
       "0  2019-08-04  13:22:56  71.4671  138.4826    10       4.3      mb\n",
       "1  2019-05-21  03:45:11   75.493  110.1978    10       4.8      mb\n",
       "2  2019-05-13  00:43:33  79.4127  123.9058    10       5.4     mww"
      ]
     },
     "execution_count": 18,
     "metadata": {},
     "output_type": "execute_result"
    }
   ],
   "source": [
    "usgs_data.head(3)"
   ]
  },
  {
   "cell_type": "markdown",
   "metadata": {},
   "source": [
    "**Here, we have a table with basic info.\n",
    "We load the data to isc_data.txt. So, we can use that info for further applications**"
   ]
  },
  {
   "cell_type": "code",
   "execution_count": 19,
   "metadata": {},
   "outputs": [],
   "source": [
    "usgs_data.to_csv('usgs_data.txt', index=False)"
   ]
  },
  {
   "cell_type": "code",
   "execution_count": null,
   "metadata": {},
   "outputs": [],
   "source": []
  }
 ],
 "metadata": {
  "kernelspec": {
   "display_name": "Python (seismic)",
   "language": "python",
   "name": "seismic"
  },
  "language_info": {
   "codemirror_mode": {
    "name": "ipython",
    "version": 3
   },
   "file_extension": ".py",
   "mimetype": "text/x-python",
   "name": "python",
   "nbconvert_exporter": "python",
   "pygments_lexer": "ipython3",
   "version": "3.7.6"
  }
 },
 "nbformat": 4,
 "nbformat_minor": 2
}
