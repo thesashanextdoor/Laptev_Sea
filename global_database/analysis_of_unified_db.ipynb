{
 "cells": [
  {
   "attachments": {},
   "cell_type": "markdown",
   "metadata": {},
   "source": [
    "### Here, you can see contribution(number of events) from different sources in unified_db\n",
    "\n",
    "![contribution_of_sources](https://github.com/thesashanextdoor/Laptev_Sea/blob/master/images/contribution_of_sources_unified_db.jpg)\n",
    "\n",
    "\n",
    "### Now have a look at a map based on the data of unified_db\n",
    "\n",
    "![conic_dist_3dbclass](https://github.com/thesashanextdoor/Laptev_Sea/blob/master/images/conic_dist_3dbclass_unified_db.jpg)\n",
    "## Fig1. Earthquakes epicenters in Laptev sea region. Different colors represent different database.\n",
    "#### red dot = USGS database\n",
    "#### blue dot = ISC database\n",
    "#### green dot = Earthquakes of Russia database"
   ]
  },
  {
   "cell_type": "code",
   "execution_count": null,
   "metadata": {},
   "outputs": [],
   "source": []
  },
  {
   "attachments": {},
   "cell_type": "markdown",
   "metadata": {},
   "source": [
    "![conic_dist_2magclass](https://github.com/thesashanextdoor/Laptev_Sea/blob/master/images/conic_dist_2magclass_unified_bd.jpg)\n",
    "### Fig2. Earthquakes epicenters in Laptev sea region. Different colors represent  different magnitude class.\n",
    "#### red dot = magnitude >= 4\n",
    "#### blue dot = magnitude < 4"
   ]
  },
  {
   "cell_type": "code",
   "execution_count": null,
   "metadata": {},
   "outputs": [],
   "source": []
  },
  {
   "cell_type": "markdown",
   "metadata": {},
   "source": [
    "### Based on Fig1 and Fig2 we can conclude:\n",
    "### 1. Data from ISC and USGS contain events with higher magnitude that database Earthquakes of Russia (we can understand it because ISC and USGS stations are far away from Laptev sea region)\n",
    "### 2.Based on ISC and USGS (big magnitudes, Fig2 red dots) we can guess the hypothesis of one Laptev microplate(see, [Avetisov Geologic Structures of the Arctic Basin](https://books.google.ru/books?id=-s1fDwAAQBAJ&pg=PA53&lpg=PA53&dq=avetisov+epicenters+++laptev+sea&source=bl&ots=G8iMRy06n8&sig=ACfU3U25rDyf6aUmV7EwaYF79nVd5bFD9w&hl=ru&sa=X&ved=2ahUKEwjyk5CA55PqAhUItosKHdZnCc8Q6AEwBHoECAkQAQ#v=onepage&q=avetisov%20epicenters%20%20%20laptev%20sea&f=false))\n",
    "### 3. Based on database Earthquakes of Russia we understand that there are a lot of earthquakes with low magnitude. To formulate the right picture of tectonics in Laptev sea reagion we should also take in mind small events not only the big one. That is way we need extra information about local small events on the shelf of the Laptev Sea and in the Lena Delta."
   ]
  },
  {
   "cell_type": "code",
   "execution_count": null,
   "metadata": {},
   "outputs": [],
   "source": []
  },
  {
   "cell_type": "markdown",
   "metadata": {},
   "source": [
    "### Hopefully, we have some extra data. So it's time to start for second part of my work."
   ]
  },
  {
   "cell_type": "code",
   "execution_count": null,
   "metadata": {},
   "outputs": [],
   "source": []
  }
 ],
 "metadata": {
  "kernelspec": {
   "display_name": "Python 3",
   "language": "python",
   "name": "python3"
  },
  "language_info": {
   "codemirror_mode": {
    "name": "ipython",
    "version": 3
   },
   "file_extension": ".py",
   "mimetype": "text/x-python",
   "name": "python",
   "nbconvert_exporter": "python",
   "pygments_lexer": "ipython3",
   "version": "3.7.3"
  }
 },
 "nbformat": 4,
 "nbformat_minor": 2
}
