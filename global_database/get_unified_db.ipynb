{
 "cells": [
  {
   "cell_type": "code",
   "execution_count": 45,
   "metadata": {},
   "outputs": [],
   "source": [
    "import pandas as pd\n",
    "import numpy as np\n",
    "from datetime import datetime"
   ]
  },
  {
   "cell_type": "markdown",
   "metadata": {},
   "source": [
    "### Load data\n",
    "You can download these files from /Laptev_Sea/global_database/data"
   ]
  },
  {
   "cell_type": "code",
   "execution_count": 219,
   "metadata": {},
   "outputs": [],
   "source": [
    "data1 = pd.read_csv('usgs_data.txt')\n",
    "data2 = pd.read_csv('isc_data.txt')\n",
    "data3 = pd.read_csv('db_earthquakes_of_Russia.txt')"
   ]
  },
  {
   "cell_type": "code",
   "execution_count": 286,
   "metadata": {},
   "outputs": [],
   "source": [
    "# Make a column for a source\n",
    "data1['source'] = 'USGS'\n",
    "data2['source'] = 'ISC'\n",
    "data3['source'] = 'db_earthquakes_of_Russia'"
   ]
  },
  {
   "cell_type": "markdown",
   "metadata": {},
   "source": [
    "### Unify all events, make a column for datetime format"
   ]
  },
  {
   "cell_type": "code",
   "execution_count": 221,
   "metadata": {},
   "outputs": [],
   "source": [
    "all_data = pd.concat([data1, data2, data3], ignore_index=True, sort=False)"
   ]
  },
  {
   "cell_type": "code",
   "execution_count": 222,
   "metadata": {},
   "outputs": [],
   "source": [
    "# Function to make datetime column\n",
    "\n",
    "def to_datetime(num_of_row):\n",
    "    year = int(all_data['date'][num_of_row].split('-')[0])\n",
    "    month = int(all_data['date'][num_of_row].split('-')[1])\n",
    "    day = int(all_data['date'][num_of_row].split('-')[2])\n",
    "    hour = int(all_data['time'][num_of_row].split(':')[0])\n",
    "    minute = int(all_data['time'][num_of_row].split(':')[1])\n",
    "    second = int(all_data['time'][num_of_row].split(':')[2])\n",
    "    return datetime(year, month, day, hour, minute, second)"
   ]
  },
  {
   "cell_type": "code",
   "execution_count": 223,
   "metadata": {},
   "outputs": [],
   "source": [
    "all_data['datetime'] = [to_datetime(n) for n in range(len(all_data))]"
   ]
  },
  {
   "cell_type": "code",
   "execution_count": 224,
   "metadata": {},
   "outputs": [
    {
     "data": {
      "text/html": [
       "<div>\n",
       "<style scoped>\n",
       "    .dataframe tbody tr th:only-of-type {\n",
       "        vertical-align: middle;\n",
       "    }\n",
       "\n",
       "    .dataframe tbody tr th {\n",
       "        vertical-align: top;\n",
       "    }\n",
       "\n",
       "    .dataframe thead th {\n",
       "        text-align: right;\n",
       "    }\n",
       "</style>\n",
       "<table border=\"1\" class=\"dataframe\">\n",
       "  <thead>\n",
       "    <tr style=\"text-align: right;\">\n",
       "      <th></th>\n",
       "      <th>date</th>\n",
       "      <th>time</th>\n",
       "      <th>latitude</th>\n",
       "      <th>longitude</th>\n",
       "      <th>depth</th>\n",
       "      <th>magnitude</th>\n",
       "      <th>magtype</th>\n",
       "      <th>source</th>\n",
       "      <th>datetime</th>\n",
       "    </tr>\n",
       "  </thead>\n",
       "  <tbody>\n",
       "    <tr>\n",
       "      <th>0</th>\n",
       "      <td>2019-08-04</td>\n",
       "      <td>13:22:56</td>\n",
       "      <td>71.4671</td>\n",
       "      <td>138.4826</td>\n",
       "      <td>10.0</td>\n",
       "      <td>4.3</td>\n",
       "      <td>mb</td>\n",
       "      <td>USGS</td>\n",
       "      <td>2019-08-04 13:22:56</td>\n",
       "    </tr>\n",
       "    <tr>\n",
       "      <th>1</th>\n",
       "      <td>2019-05-21</td>\n",
       "      <td>03:45:11</td>\n",
       "      <td>75.4930</td>\n",
       "      <td>110.1978</td>\n",
       "      <td>10.0</td>\n",
       "      <td>4.8</td>\n",
       "      <td>mb</td>\n",
       "      <td>USGS</td>\n",
       "      <td>2019-05-21 03:45:11</td>\n",
       "    </tr>\n",
       "  </tbody>\n",
       "</table>\n",
       "</div>"
      ],
      "text/plain": [
       "         date      time  latitude  longitude  depth  magnitude magtype source  \\\n",
       "0  2019-08-04  13:22:56   71.4671   138.4826   10.0        4.3      mb   USGS   \n",
       "1  2019-05-21  03:45:11   75.4930   110.1978   10.0        4.8      mb   USGS   \n",
       "\n",
       "             datetime  \n",
       "0 2019-08-04 13:22:56  \n",
       "1 2019-05-21 03:45:11  "
      ]
     },
     "execution_count": 224,
     "metadata": {},
     "output_type": "execute_result"
    }
   ],
   "source": [
    "all_data.head(2)"
   ]
  },
  {
   "cell_type": "markdown",
   "metadata": {},
   "source": [
    "### Sort data"
   ]
  },
  {
   "cell_type": "code",
   "execution_count": 225,
   "metadata": {},
   "outputs": [],
   "source": [
    "sorted_data = all_data.sort_values(by=['datetime'], inplace=False, ascending=True)"
   ]
  },
  {
   "cell_type": "code",
   "execution_count": 226,
   "metadata": {},
   "outputs": [],
   "source": [
    "sorted_data.index = range(len(all_data))"
   ]
  },
  {
   "cell_type": "code",
   "execution_count": 227,
   "metadata": {},
   "outputs": [
    {
     "data": {
      "text/html": [
       "<div>\n",
       "<style scoped>\n",
       "    .dataframe tbody tr th:only-of-type {\n",
       "        vertical-align: middle;\n",
       "    }\n",
       "\n",
       "    .dataframe tbody tr th {\n",
       "        vertical-align: top;\n",
       "    }\n",
       "\n",
       "    .dataframe thead th {\n",
       "        text-align: right;\n",
       "    }\n",
       "</style>\n",
       "<table border=\"1\" class=\"dataframe\">\n",
       "  <thead>\n",
       "    <tr style=\"text-align: right;\">\n",
       "      <th></th>\n",
       "      <th>date</th>\n",
       "      <th>time</th>\n",
       "      <th>latitude</th>\n",
       "      <th>longitude</th>\n",
       "      <th>depth</th>\n",
       "      <th>magnitude</th>\n",
       "      <th>magtype</th>\n",
       "      <th>source</th>\n",
       "      <th>datetime</th>\n",
       "    </tr>\n",
       "  </thead>\n",
       "  <tbody>\n",
       "    <tr>\n",
       "      <th>0</th>\n",
       "      <td>1909-04-10</td>\n",
       "      <td>18:46:54</td>\n",
       "      <td>77.5</td>\n",
       "      <td>128.0</td>\n",
       "      <td>35.0</td>\n",
       "      <td>6.75</td>\n",
       "      <td>MS</td>\n",
       "      <td>ISC</td>\n",
       "      <td>1909-04-10 18:46:54</td>\n",
       "    </tr>\n",
       "    <tr>\n",
       "      <th>1</th>\n",
       "      <td>1912-04-13</td>\n",
       "      <td>02:39:42</td>\n",
       "      <td>80.0</td>\n",
       "      <td>100.0</td>\n",
       "      <td>35.0</td>\n",
       "      <td>5.60</td>\n",
       "      <td>MS</td>\n",
       "      <td>ISC</td>\n",
       "      <td>1912-04-13 02:39:42</td>\n",
       "    </tr>\n",
       "  </tbody>\n",
       "</table>\n",
       "</div>"
      ],
      "text/plain": [
       "         date      time  latitude  longitude  depth  magnitude magtype source  \\\n",
       "0  1909-04-10  18:46:54      77.5      128.0   35.0       6.75      MS    ISC   \n",
       "1  1912-04-13  02:39:42      80.0      100.0   35.0       5.60      MS    ISC   \n",
       "\n",
       "             datetime  \n",
       "0 1909-04-10 18:46:54  \n",
       "1 1912-04-13 02:39:42  "
      ]
     },
     "execution_count": 227,
     "metadata": {},
     "output_type": "execute_result"
    }
   ],
   "source": [
    "sorted_data.head(2)"
   ]
  },
  {
   "cell_type": "markdown",
   "metadata": {},
   "source": [
    "### Find duplicates"
   ]
  },
  {
   "cell_type": "code",
   "execution_count": 228,
   "metadata": {},
   "outputs": [],
   "source": [
    "# Function to find difference in seconds between 2 rows\n",
    "def sec_diff(row2, row1):\n",
    "    return (sorted_data['datetime'][row2] - sorted_data['datetime'][row1]).total_seconds()"
   ]
  },
  {
   "cell_type": "code",
   "execution_count": 229,
   "metadata": {},
   "outputs": [],
   "source": [
    "# Сompare the time difference in seconds between 2 adjacent lines. \n",
    "# If the difference is less than n_sec then we consider the first event to be a duplicate.\n",
    "# Based on this definition, the last event is never a duplicate.\n",
    "def find_duplicates(n_sec):\n",
    "    duplicates_list = []\n",
    "    for row1 in range(len(sorted_data) - 1):\n",
    "        if sec_diff(row1 + 1, row1) < n_sec:\n",
    "            duplicates_list.append(True)\n",
    "        else:\n",
    "            duplicates_list.append(False)\n",
    "    duplicates_list.append(False)\n",
    "    return duplicates_list"
   ]
  },
  {
   "cell_type": "markdown",
   "metadata": {},
   "source": [
    "### Statistics of duplicates"
   ]
  },
  {
   "cell_type": "code",
   "execution_count": 230,
   "metadata": {},
   "outputs": [],
   "source": [
    "n_sec = [60 * i for i in range(11)]\n",
    "num_of_duplicates = []"
   ]
  },
  {
   "cell_type": "code",
   "execution_count": 231,
   "metadata": {},
   "outputs": [],
   "source": [
    "for n in n_sec:\n",
    "    sorted_data['is_duplicate'] = find_duplicates(n)\n",
    "    num_of_duplicates.append(sorted_data['is_duplicate'].sum())"
   ]
  },
  {
   "cell_type": "code",
   "execution_count": 232,
   "metadata": {},
   "outputs": [],
   "source": [
    "from matplotlib import pyplot as plt\n",
    "%matplotlib inline"
   ]
  },
  {
   "cell_type": "code",
   "execution_count": 262,
   "metadata": {},
   "outputs": [
    {
     "data": {
      "image/png": "[encoded data removed]",
      "text/plain": [
       "<Figure size 576x576 with 1 Axes>"
      ]
     },
     "metadata": {
      "needs_background": "light"
     },
     "output_type": "display_data"
    }
   ],
   "source": [
    "plt.figure(figsize=(8,8))\n",
    "plt.scatter(n_sec, num_of_duplicates)\n",
    "plt.plot(n_sec, num_of_duplicates)\n",
    "plt.xlabel('Time difference for being a duplicate, seconds', fontsize=16)\n",
    "plt.ylabel('Number of duplicates', fontsize=16)\n",
    "plt.title('Statistics of duplicates', fontsize=18)\n",
    "plt.show()"
   ]
  },
  {
   "cell_type": "markdown",
   "metadata": {},
   "source": [
    "#### Let's take n_sec = 100 for being a duplicate"
   ]
  },
  {
   "cell_type": "markdown",
   "metadata": {},
   "source": [
    "### Drop duplicates"
   ]
  },
  {
   "cell_type": "code",
   "execution_count": 234,
   "metadata": {},
   "outputs": [],
   "source": [
    "sorted_data['is_duplicate'] = find_duplicates(100)"
   ]
  },
  {
   "cell_type": "code",
   "execution_count": 238,
   "metadata": {},
   "outputs": [],
   "source": [
    "unified_data = sorted_data[sorted_data['is_duplicate'] == False]\n",
    "unified_data.index = range(len(unified_data))"
   ]
  },
  {
   "cell_type": "code",
   "execution_count": 242,
   "metadata": {},
   "outputs": [],
   "source": [
    "ISC_events = len(unified_data[unified_data['source'] == 'ISC'])\n",
    "USGS_events = len(unified_data[unified_data['source'] == 'USGS'])\n",
    "earthquakes_of_Russia_events = len(unified_data[unified_data['source'] == 'db_earthquakes_of_Russia'])"
   ]
  },
  {
   "cell_type": "code",
   "execution_count": 287,
   "metadata": {},
   "outputs": [
    {
     "data": {
      "image/png": "[encoded data removed]",
      "text/plain": [
       "<Figure size 576x576 with 1 Axes>"
      ]
     },
     "metadata": {},
     "output_type": "display_data"
    }
   ],
   "source": [
    "# Function to get percentage and number of events\n",
    "def func(pct, allvals):\n",
    "    absolute = int(pct/100.*np.sum(allvals))\n",
    "    return \"{:.1f}%\\n({:d})\".format(pct, absolute)\n",
    "\n",
    "vals = [ISC_events, USGS_events, earthquakes_of_Russia_events]\n",
    "labels = [\"ISC\", \"USGS\", \"Earthquakes of Russia\"]\n",
    "fig, ax = plt.subplots(figsize=(8, 8))\n",
    "\n",
    "ax.pie(vals, labels=labels, autopct=lambda pct: func(pct, vals), textprops={'fontsize': 16})\n",
    "ax.axis(\"equal\")\n",
    "ax.set_title('The contribution of different sources', fontsize=18)\n",
    "plt.show()\n"
   ]
  },
  {
   "cell_type": "markdown",
   "metadata": {},
   "source": [
    "### Save unified database"
   ]
  },
  {
   "cell_type": "code",
   "execution_count": 285,
   "metadata": {},
   "outputs": [],
   "source": [
    "unified_data[['date', 'time', 'latitude', 'longitude', 'depth', 'magnitude', 'magtype', 'source']].to_csv('unified_db.txt', index=False)"
   ]
  },
  {
   "cell_type": "code",
   "execution_count": null,
   "metadata": {},
   "outputs": [],
   "source": []
  }
 ],
 "metadata": {
  "kernelspec": {
   "display_name": "Python 3",
   "language": "python",
   "name": "python3"
  },
  "language_info": {
   "codemirror_mode": {
    "name": "ipython",
    "version": 3
   },
   "file_extension": ".py",
   "mimetype": "text/x-python",
   "name": "python",
   "nbconvert_exporter": "python",
   "pygments_lexer": "ipython3",
   "version": "3.7.3"
  }
 },
 "nbformat": 4,
 "nbformat_minor": 2
}
